{
 "cells": [
  {
   "cell_type": "markdown",
   "id": "949f45bf",
   "metadata": {},
   "source": [
    "# Uso de Markdown"
   ]
  },
  {
   "cell_type": "markdown",
   "id": "0095d932",
   "metadata": {},
   "source": [
    "# Título 1\n",
    "\n",
    "todos los títulos empiezan con un ```#```\n",
    "\n",
    "## Título 2\n",
    "### Título 3\n",
    "#### Título 4\n",
    "##### Título 5\n",
    "###### Título 6"
   ]
  },
  {
   "cell_type": "markdown",
   "id": "0e89b30b",
   "metadata": {},
   "source": [
    "# Blockquote\n",
    "los _blockquotes_ se hacen con el signo ```>```\n",
    "\n",
    "># titulo del blockquote\n",
    "> Este es el parrafo del blockquote\n",
    ">\n",
    ">> Este es un blockquote anidado\n",
    ">> Tenemos más texto\n",
    ">\n",
    ">## Segunda parte\n",
    "> Más texto"
   ]
  },
  {
   "cell_type": "markdown",
   "id": "a54b4667",
   "metadata": {},
   "source": [
    "# Énfasis \n",
    "se peuden poner **negrillas** con doble carácter ```**``` o ```__```\n",
    "\n",
    "se pueden poner *italicas* con su carácter ```*``` o un ```_```\n",
    "\n",
    "se puede hacer un ~~tachado~~ con un caracter ```~~```\n"
   ]
  },
  {
   "cell_type": "markdown",
   "id": "325e52d0",
   "metadata": {},
   "source": [
    "# Listas\n",
    "## Ordenadas\n",
    "1. Colores\n",
    "  1. Rojo\n",
    "  2. Azul\n",
    "  3. Verde\n",
    "2. Sabores\n",
    "  1. Salado\n",
    "  2. Dulce\n",
    " \n",
    "## No ordenadas \n",
    "* Animales\n",
    "  - Perro\n",
    "  - Gato\n",
    "  - Caiman\n",
    "* Frutas\n",
    "  - citricos\n",
    "    + Limon\n",
    "    + Naranja\n",
    "    + Toronja\n",
    "  - Manzana\n",
    "  - Pera\n",
    "  "
   ]
  },
  {
   "cell_type": "markdown",
   "id": "f0fa80da",
   "metadata": {},
   "source": [
    "# Enlaces\n",
    "Un enlace siempre tiene la forma ```[nombre](url)\"tooltip\"```\n",
    "\n",
    "### Libros\n",
    "* [Git book](https://git-scm.com/book/en/v2)\n",
    "* [coleccion de libros de python](https://wiki.python.org/moin/PythonBooks)\n"
   ]
  },
  {
   "cell_type": "markdown",
   "id": "23263ef5",
   "metadata": {},
   "source": [
    "# Imágenes\n",
    "\n",
    "Las imagenes tienen la forma ```![nombre](url)```\n",
    "![Jupyter](https://external-content.duckduckgo.com/iu/?u=https%3A%2F%2Fstatic1.thethingsimages.com%2Fwordpress%2Fwp-content%2Fuploads%2F2020%2F04%2Fhp-fi-1.jpg&f=1&nofb=1)"
   ]
  },
  {
   "cell_type": "markdown",
   "id": "209da243",
   "metadata": {},
   "source": [
    "# Código\n",
    "Utilizar 4 espacios:\n",
    "\n",
    "    Frutas = [`pera`, `Manzana`, `Piña`]\n",
    "    for Fruta in Frutas:\n",
    "        Print (Frutas)\n",
    "        \n",
    "En un bloque de código, los TAGs HTML no tiene efecto:\n",
    "\n",
    "        <html>\n",
    "           <head>\n",
    "            <title>NO PASA NADA</title>\n",
    "           </head>\n",
    "          <body>\n",
    "          </body>\n",
    "         </html>\n",
    "         \n",
    "Tambien se crea un bloque de codigo con triple comilla invertida y le indico el lenguaje:\n",
    "\n",
    "```Python\n",
    "\n",
    "frutas = ['pera', 'manzana', 'piña']\n",
    "\n",
    "for fruta in frutas:\n",
    "    \n",
    "    print(frutas)\n",
    "```\n",
    "\n",
    "otro ejemplo \n",
    "```html\n",
    "<html>\n",
    "    <head>\n",
    "        <title>no pasa nada </title>\n",
    "    </head>\n",
    "    <body>\n",
    "    </body>\n",
    "</html>\n",
    "```\n"
   ]
  },
  {
   "cell_type": "markdown",
   "id": "fa265b7a",
   "metadata": {},
   "source": [
    "# Tablas\n",
    "|Cedula|Nombre|Ciudad|\n",
    "|------|------|------|\n",
    "|55454354|Andres|Cali|\n",
    "|116556783|Felipe|Candelaria|\n",
    "|1015657457|Andrea|Medellin|\n"
   ]
  },
  {
   "cell_type": "markdown",
   "id": "6932e9ef",
   "metadata": {},
   "source": [
    "# Comandos"
   ]
  },
  {
   "cell_type": "code",
   "execution_count": 1,
   "id": "f6f53edf",
   "metadata": {},
   "outputs": [
    {
     "name": "stdout",
     "output_type": "stream",
     "text": [
      "total 24\r\n",
      "-rw-rw-r-- 1 ubuntu ubuntu 13830 Jun 17 02:22 01_Markdown.ipynb\r\n",
      "-rw-rw-r-- 1 ubuntu ubuntu   841 Jun 17 02:27 Hola.py.ipynb\r\n",
      "-rw-rw-r-- 1 ubuntu ubuntu    56 Jun 16 01:49 README.md\r\n"
     ]
    }
   ],
   "source": [
    "!ls -l"
   ]
  },
  {
   "cell_type": "code",
   "execution_count": 2,
   "id": "18ebb38a",
   "metadata": {},
   "outputs": [
    {
     "name": "stdout",
     "output_type": "stream",
     "text": [
      "/home/ubuntu/Notebooks\r\n"
     ]
    }
   ],
   "source": [
    "!pwd"
   ]
  },
  {
   "cell_type": "code",
   "execution_count": null,
   "id": "300c2ac2",
   "metadata": {},
   "outputs": [],
   "source": [
    "%run Hola.py"
   ]
  }
 ],
 "metadata": {
  "kernelspec": {
   "display_name": "Python 3",
   "language": "python",
   "name": "python3"
  },
  "language_info": {
   "codemirror_mode": {
    "name": "ipython",
    "version": 3
   },
   "file_extension": ".py",
   "mimetype": "text/x-python",
   "name": "python",
   "nbconvert_exporter": "python",
   "pygments_lexer": "ipython3",
   "version": "3.8.8"
  }
 },
 "nbformat": 4,
 "nbformat_minor": 5
}
